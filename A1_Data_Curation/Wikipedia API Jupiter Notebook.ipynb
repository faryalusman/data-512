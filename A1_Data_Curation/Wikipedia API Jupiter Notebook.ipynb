{
 "cells": [
  {
   "cell_type": "markdown",
   "metadata": {},
   "source": [
    "# Step 1: Gathering data "
   ]
  },
  {
   "cell_type": "code",
   "execution_count": 266,
   "metadata": {},
   "outputs": [],
   "source": [
    "import json\n",
    "import requests"
   ]
  },
  {
   "cell_type": "markdown",
   "metadata": {},
   "source": [
    "Using provided instructions to pull data from legacy and other endpoints, as well as specifying the parameters such as desktop vs mobile and the time duration. These parameters will be used to call data from the API using a function"
   ]
  },
  {
   "cell_type": "code",
   "execution_count": 267,
   "metadata": {},
   "outputs": [],
   "source": [
    "ENDPOINT_LEGACY = 'https://wikimedia.org/api/rest_v1/metrics/legacy/pagecounts/aggregate/{project}/{access-site}/{granularity}/{start}/{end}'\n",
    "\n",
    "ENDPOINT_PAGEVIEWS = 'https://wikimedia.org/api/rest_v1/metrics/pageviews/aggregate/{project}/{access}/{agent}/{granularity}/{start}/{end}'"
   ]
  },
  {
   "cell_type": "code",
   "execution_count": 268,
   "metadata": {},
   "outputs": [],
   "source": [
    "params_legacy_desktop = {\"project\" : \"en.wikipedia.org\",\n",
    "                 \"access-site\" : \"desktop-site\",\n",
    "                 \"granularity\" : \"monthly\",\n",
    "                 \"start\" : \"2007120100\",\n",
    "                 \"end\" : \"2016080100\"\n",
    "                    }\n",
    "\n",
    "params_legacy_mobile = {\"project\" : \"en.wikipedia.org\",\n",
    "                 \"access-site\" : \"mobile-site\",\n",
    "                 \"granularity\" : \"monthly\",\n",
    "                 \"start\" : \"2007120100\",\n",
    "                 \"end\" : \"2016080100\"\n",
    "                    }\n",
    "\n",
    "params_pageviews_desktop = {\"project\" : \"en.wikipedia.org\",\n",
    "                    \"access\" : \"desktop\",\n",
    "                    \"agent\" : \"user\",\n",
    "                    \"granularity\" : \"monthly\",\n",
    "                    \"start\" : \"2015070100\", \n",
    "                    \"end\" : \"2020100100\"}\n",
    "                            \n",
    "params_pageviews_app = {\"project\" : \"en.wikipedia.org\",\n",
    "                    \"access\" : \"mobile-app\",\n",
    "                    \"agent\" : \"user\",\n",
    "                    \"granularity\" : \"monthly\",\n",
    "                    \"start\" : \"2015070100\",\n",
    "                    \"end\" : '2020100100'}\n",
    "\n",
    "params_pageviews_mobile = {\"project\" : \"en.wikipedia.org\",\n",
    "                    \"access\" : \"mobile-web\",\n",
    "                    \"agent\" : \"user\",\n",
    "                    \"granularity\" : \"monthly\",\n",
    "                    \"start\" : \"2015070100\",\n",
    "                    \"end\" : '2020100100'}"
   ]
  },
  {
   "cell_type": "code",
   "execution_count": 298,
   "metadata": {},
   "outputs": [],
   "source": [
    "headers = {\n",
    "    'User-Agent': 'https://github.com/faryalusman',\n",
    "    'From': 'fusman@uw.edu'\n",
    "}"
   ]
  },
  {
   "cell_type": "markdown",
   "metadata": {},
   "source": [
    "Creating a function to query the endpoint based on the specific parameters provided. "
   ]
  },
  {
   "cell_type": "code",
   "execution_count": 300,
   "metadata": {},
   "outputs": [],
   "source": [
    "def api_call(endpoint,parameters):\n",
    "    \"\"\"\n",
    "    Function to call data based on endpoint and specific parameters\n",
    "    \"\"\"\n",
    "    call = requests.get(endpoint.format(**parameters), headers=headers)\n",
    "    response = call.json()\n",
    "    \n",
    "    return response"
   ]
  },
  {
   "cell_type": "markdown",
   "metadata": {},
   "source": [
    "Using the function to call the data for each of the 5 channels specified."
   ]
  },
  {
   "cell_type": "code",
   "execution_count": 271,
   "metadata": {},
   "outputs": [],
   "source": [
    "legacy_desktop = api_call(ENDPOINT_LEGACY, params_legacy_desktop)\n",
    "legacy_mobile = api_call(ENDPOINT_LEGACY, params_legacy_mobile) \n",
    "\n",
    "pageviews_desktop =  api_call(ENDPOINT_PAGEVIEWS, params_pageviews_desktop)\n",
    "pageviews_app =  api_call(ENDPOINT_PAGEVIEWS, params_pageviews_app)\n",
    "pageviews_mobile =  api_call(ENDPOINT_PAGEVIEWS, params_pageviews_mobile)"
   ]
  },
  {
   "cell_type": "markdown",
   "metadata": {},
   "source": [
    "Creating a function that when taking a file name and api queried data, will output the data\n",
    "as a json locally with the same filename."
   ]
  },
  {
   "cell_type": "code",
   "execution_count": 272,
   "metadata": {},
   "outputs": [],
   "source": [
    "def save_json(filename, api_call):\n",
    "    with open(filename, 'w') as outfile:\n",
    "        json.dump(api_call, outfile)\n",
    "        outfile.close()"
   ]
  },
  {
   "cell_type": "markdown",
   "metadata": {},
   "source": [
    "Creating a dictionary of initially queried API data as well as desired JSON filenames that when looped over will save the data locally to the filename. Filenames are created as instructed"
   ]
  },
  {
   "cell_type": "code",
   "execution_count": 273,
   "metadata": {},
   "outputs": [],
   "source": [
    "api_data_info = {\n",
    "    'pagecounts_desktop_2007120100-2016080100.json':legacy_desktop, \n",
    "    'pagecounts_mobile_2007120100-2016080100.json':legacy_mobile, \n",
    "    'pageviews_desktop_2015070100-2020100100.json': pageviews_desktop, \n",
    "    'pageviews_mobile-app_2015070100-2020100100.json':pageviews_app, \n",
    "    'pageviews_mobile-site_2015070100-2020100100.json':pageviews_mobile\n",
    "}"
   ]
  },
  {
   "cell_type": "code",
   "execution_count": 274,
   "metadata": {},
   "outputs": [],
   "source": [
    "for json_file, api_data in api_data_info.items():\n",
    "    save_json(json_file, api_data)"
   ]
  },
  {
   "cell_type": "markdown",
   "metadata": {},
   "source": [
    "# Step 2: Processing the data"
   ]
  },
  {
   "cell_type": "markdown",
   "metadata": {},
   "source": [
    "Creating a function that can load JSON data saved locally using a Pandas DataFrame format."
   ]
  },
  {
   "cell_type": "code",
   "execution_count": 275,
   "metadata": {},
   "outputs": [],
   "source": [
    "import pandas as pd"
   ]
  },
  {
   "cell_type": "code",
   "execution_count": 276,
   "metadata": {},
   "outputs": [],
   "source": [
    "def json2df(json_filepath):\n",
    "    with open(json_filepath, 'r') as file:\n",
    "        json_data = json.load(file)['items']\n",
    "        df = pd.json_normalize(json_data)\n",
    "        file.close()\n",
    "    return df"
   ]
  },
  {
   "cell_type": "code",
   "execution_count": 277,
   "metadata": {},
   "outputs": [],
   "source": [
    "df_pc_desktop = json2df('pagecounts_desktop_2007120100-2016080100.json')\n",
    "df_pc_mobile = json2df('pagecounts_mobile_2007120100-2016080100.json')\n",
    "\n",
    "df_pv_desktop = json2df('pageviews_desktop_2015070100-2020100100.json')\n",
    "df_pv_app = json2df('pageviews_mobile-app_2015070100-2020100100.json')\n",
    "df_pv_mobile_web = json2df('pageviews_mobile-site_2015070100-2020100100.json')"
   ]
  },
  {
   "cell_type": "markdown",
   "metadata": {},
   "source": [
    "Creating a function that can strip hours from the date and then convert it to a DateTime format."
   ]
  },
  {
   "cell_type": "code",
   "execution_count": 278,
   "metadata": {},
   "outputs": [],
   "source": [
    "def date_converter(data):\n",
    "    time_col = 'timestamp'\n",
    "    \n",
    "    def string_formatter(time_string):\n",
    "        #assert(len(time_string) == 10)\n",
    "        if len(time_string) == 10:\n",
    "            time_string = time_string[0:-2]\n",
    "        else: \n",
    "            pass\n",
    "        return time_string\n",
    "    \n",
    "    data['timestamp'] = data['timestamp'].apply(string_formatter)\n",
    "    data['timestamp'] = pd.to_datetime(data['timestamp'])\n",
    "    return data"
   ]
  },
  {
   "cell_type": "markdown",
   "metadata": {},
   "source": [
    "Applying this date formatter to all the dataframes created above."
   ]
  },
  {
   "cell_type": "code",
   "execution_count": 279,
   "metadata": {},
   "outputs": [],
   "source": [
    "df_pc_desktop = date_converter(df_pc_desktop)\n",
    "df_pc_mobile = date_converter(df_pc_mobile)\n",
    "\n",
    "df_pv_desktop = date_converter(df_pv_desktop)\n",
    "df_pv_app = date_converter(df_pv_app)\n",
    "df_pv_mobile_web = date_converter(df_pv_mobile_web)"
   ]
  },
  {
   "cell_type": "markdown",
   "metadata": {},
   "source": [
    "Creating a function for data processing that when given two pageviews mobile datasets (app data and website data), can combine them into one. As there are lots of unneeded columns in a pandas merge, this function also drops columns and renames others when apropriate. \n",
    "\n",
    "It also fills in missing values with 0 before creating a final column called 'pageview_mobile_views' that will the addition of both types of views."
   ]
  },
  {
   "cell_type": "code",
   "execution_count": 280,
   "metadata": {},
   "outputs": [],
   "source": [
    "def combine_mobile_data(app_data, website_data):\n",
    "    \"\"\"\n",
    "    Function to combine pageviews mobile app and mobile site data into one \n",
    "    combined datframe.\n",
    "    \"\"\"\n",
    "    drop_cols = ['project_y', 'agent_y', 'granularity_y', \n",
    "                 'views_x', 'views_y']\n",
    "    \n",
    "    combined = pd.merge(app_data, website_data, \n",
    "                       how='left', on='timestamp')\n",
    "    combined.fillna(value=0)\n",
    "    combined['pageview_mobile_views'] = combined['views_x'] + combined['views_y']\n",
    "    \n",
    "    combined.rename(columns= {'access_x':'access_app', 'access_y':'access_mobile-web'}, \n",
    "                   inplace=True)\n",
    "    \n",
    "    combined.drop(columns=drop_cols, inplace=True)\n",
    "    combined.columns = combined.columns.str.rstrip('_x')\n",
    "    \n",
    "    assert(app_data.shape == website_data.shape)\n",
    "    return combined"
   ]
  },
  {
   "cell_type": "code",
   "execution_count": 281,
   "metadata": {},
   "outputs": [],
   "source": [
    "df_pv_mobile = combine_mobile_data(df_pv_app, df_pv_mobile_web)"
   ]
  },
  {
   "cell_type": "markdown",
   "metadata": {},
   "source": [
    "Creating a function that can take in 4 datasets as arguments (two for each type of API endpoint and access type and combine them. It initally creates two datasets (for pageviews and the legacy endpoint) by using the pd.merge() function. It also does necessary preprocessing like filling missing values with 0, adding data and renaming / dropping extra columns. \n",
    "\n",
    "Then these two datasets are combined and merged into a single dataset, which is sorted by date and missing values are set to 0."
   ]
  },
  {
   "cell_type": "code",
   "execution_count": 282,
   "metadata": {},
   "outputs": [],
   "source": [
    "def api_data_combiner(data_pv_mobile, data_pv_desktop, \n",
    "                     data_pc_mobile, data_pc_desktop):\n",
    "    \"\"\"\n",
    "    Creates one combined dataset of the 4 datasets, one for each combination\n",
    "    of access / API Endpoint\n",
    "    \"\"\"\n",
    "    # Preprocessing pageviews data \n",
    "    assert(data_pv_mobile.shape[0] == data_pv_desktop.shape[0])\n",
    "    \n",
    "    data_pv =  pd.merge(df_pv_mobile, df_pv_desktop, how='outer', \n",
    "                on=['timestamp'])\n",
    "    data_pv.fillna(value=0, inplace=True)\n",
    "    pv_cols = ['timestamp', 'pageview_mobile_views', 'views']\n",
    "    data_pv = data_pv[pv_cols]\n",
    "    data_pv.rename(columns={'views':'pageview_desktop_views'}, inplace=True)\n",
    "    data_pv['pageview_all_views'] = data_pv['pageview_mobile_views'] + \\\n",
    "                                    data_pv['pageview_desktop_views']\n",
    "    assert(data_pv.shape[0] == data_pv_mobile.shape[0])\n",
    "    assert(data_pv.shape[0] == data_pv_desktop.shape[0])\n",
    "     \n",
    "        \n",
    "     # Preprocessing legacy data   \n",
    "    data_pc = pd.merge(df_pc_mobile, df_pc_desktop, how='outer', \n",
    "                on=['timestamp'])\n",
    "    pc_cols = ['timestamp', 'count_x', 'count_y']\n",
    "    data_pc = data_pc[pc_cols]\n",
    "    data_pc.fillna(value=0, inplace=True)\n",
    "    data_pc.rename(columns={'count_x':'pagecount_mobile_views', \n",
    "                           'count_y':'pagecount_desktop_views'},\n",
    "                  inplace=True)\n",
    "    data_pc['pagecount_all_views'] = data_pc['pagecount_mobile_views'] + \\\n",
    "                                    data_pc['pagecount_desktop_views']\n",
    "    assert(data_pc.shape[0] == df_pc_desktop.shape[0])\n",
    "    \n",
    "    \n",
    "    # Combining pageviews and legacy data\n",
    "    pc_pv_combined = pd.merge(data_pc, data_pv, on=['timestamp'], \n",
    "                             how='outer')\n",
    "    pc_pv_combined.fillna(value=0, inplace=True)\n",
    "    pc_pv_combined.sort_values(by=['timestamp'], ascending=True, \n",
    "                              inplace=True)\n",
    "    return pc_pv_combined "
   ]
  },
  {
   "cell_type": "code",
   "execution_count": 283,
   "metadata": {},
   "outputs": [],
   "source": [
    "aggregated_data = api_data_combiner(df_pv_mobile, df_pv_desktop, \n",
    "                 df_pc_mobile, df_pc_desktop)"
   ]
  },
  {
   "cell_type": "markdown",
   "metadata": {},
   "source": [
    "Extracting Year and Month from the Timestamp"
   ]
  },
  {
   "cell_type": "code",
   "execution_count": 284,
   "metadata": {},
   "outputs": [],
   "source": [
    "aggregated_data['Year'] = pd.DatetimeIndex(aggregated_data['timestamp']).year\n",
    "aggregated_data['Month'] = pd.DatetimeIndex(aggregated_data['timestamp']).month"
   ]
  },
  {
   "cell_type": "code",
   "execution_count": 285,
   "metadata": {},
   "outputs": [
    {
     "data": {
      "text/html": [
       "<div>\n",
       "<style scoped>\n",
       "    .dataframe tbody tr th:only-of-type {\n",
       "        vertical-align: middle;\n",
       "    }\n",
       "\n",
       "    .dataframe tbody tr th {\n",
       "        vertical-align: top;\n",
       "    }\n",
       "\n",
       "    .dataframe thead th {\n",
       "        text-align: right;\n",
       "    }\n",
       "</style>\n",
       "<table border=\"1\" class=\"dataframe\">\n",
       "  <thead>\n",
       "    <tr style=\"text-align: right;\">\n",
       "      <th></th>\n",
       "      <th>timestamp</th>\n",
       "      <th>pagecount_mobile_views</th>\n",
       "      <th>pagecount_desktop_views</th>\n",
       "      <th>pagecount_all_views</th>\n",
       "      <th>pageview_mobile_views</th>\n",
       "      <th>pageview_desktop_views</th>\n",
       "      <th>pageview_all_views</th>\n",
       "      <th>Year</th>\n",
       "      <th>Month</th>\n",
       "    </tr>\n",
       "  </thead>\n",
       "  <tbody>\n",
       "    <tr>\n",
       "      <th>22</th>\n",
       "      <td>2007-12-01</td>\n",
       "      <td>0.0</td>\n",
       "      <td>2.998332e+09</td>\n",
       "      <td>2.998332e+09</td>\n",
       "      <td>0.0</td>\n",
       "      <td>0.0</td>\n",
       "      <td>0.0</td>\n",
       "      <td>2007</td>\n",
       "      <td>12</td>\n",
       "    </tr>\n",
       "    <tr>\n",
       "      <th>23</th>\n",
       "      <td>2008-01-01</td>\n",
       "      <td>0.0</td>\n",
       "      <td>4.930903e+09</td>\n",
       "      <td>4.930903e+09</td>\n",
       "      <td>0.0</td>\n",
       "      <td>0.0</td>\n",
       "      <td>0.0</td>\n",
       "      <td>2008</td>\n",
       "      <td>1</td>\n",
       "    </tr>\n",
       "  </tbody>\n",
       "</table>\n",
       "</div>"
      ],
      "text/plain": [
       "    timestamp  pagecount_mobile_views  pagecount_desktop_views  \\\n",
       "22 2007-12-01                     0.0             2.998332e+09   \n",
       "23 2008-01-01                     0.0             4.930903e+09   \n",
       "\n",
       "    pagecount_all_views  pageview_mobile_views  pageview_desktop_views  \\\n",
       "22         2.998332e+09                    0.0                     0.0   \n",
       "23         4.930903e+09                    0.0                     0.0   \n",
       "\n",
       "    pageview_all_views  Year  Month  \n",
       "22                 0.0  2007     12  \n",
       "23                 0.0  2008      1  "
      ]
     },
     "execution_count": 285,
     "metadata": {},
     "output_type": "execute_result"
    }
   ],
   "source": [
    "aggregated_data.head(2)"
   ]
  },
  {
   "cell_type": "code",
   "execution_count": 286,
   "metadata": {},
   "outputs": [],
   "source": [
    "final_data = aggregated_data.drop(columns=['timestamp'])"
   ]
  },
  {
   "cell_type": "code",
   "execution_count": 287,
   "metadata": {},
   "outputs": [
    {
     "data": {
      "text/html": [
       "<div>\n",
       "<style scoped>\n",
       "    .dataframe tbody tr th:only-of-type {\n",
       "        vertical-align: middle;\n",
       "    }\n",
       "\n",
       "    .dataframe tbody tr th {\n",
       "        vertical-align: top;\n",
       "    }\n",
       "\n",
       "    .dataframe thead th {\n",
       "        text-align: right;\n",
       "    }\n",
       "</style>\n",
       "<table border=\"1\" class=\"dataframe\">\n",
       "  <thead>\n",
       "    <tr style=\"text-align: right;\">\n",
       "      <th></th>\n",
       "      <th>pagecount_mobile_views</th>\n",
       "      <th>pagecount_desktop_views</th>\n",
       "      <th>pagecount_all_views</th>\n",
       "      <th>pageview_mobile_views</th>\n",
       "      <th>pageview_desktop_views</th>\n",
       "      <th>pageview_all_views</th>\n",
       "      <th>Year</th>\n",
       "      <th>Month</th>\n",
       "    </tr>\n",
       "  </thead>\n",
       "  <tbody>\n",
       "    <tr>\n",
       "      <th>22</th>\n",
       "      <td>0.0</td>\n",
       "      <td>2.998332e+09</td>\n",
       "      <td>2.998332e+09</td>\n",
       "      <td>0.0</td>\n",
       "      <td>0.0</td>\n",
       "      <td>0.0</td>\n",
       "      <td>2007</td>\n",
       "      <td>12</td>\n",
       "    </tr>\n",
       "    <tr>\n",
       "      <th>23</th>\n",
       "      <td>0.0</td>\n",
       "      <td>4.930903e+09</td>\n",
       "      <td>4.930903e+09</td>\n",
       "      <td>0.0</td>\n",
       "      <td>0.0</td>\n",
       "      <td>0.0</td>\n",
       "      <td>2008</td>\n",
       "      <td>1</td>\n",
       "    </tr>\n",
       "    <tr>\n",
       "      <th>24</th>\n",
       "      <td>0.0</td>\n",
       "      <td>4.818394e+09</td>\n",
       "      <td>4.818394e+09</td>\n",
       "      <td>0.0</td>\n",
       "      <td>0.0</td>\n",
       "      <td>0.0</td>\n",
       "      <td>2008</td>\n",
       "      <td>2</td>\n",
       "    </tr>\n",
       "    <tr>\n",
       "      <th>25</th>\n",
       "      <td>0.0</td>\n",
       "      <td>4.955406e+09</td>\n",
       "      <td>4.955406e+09</td>\n",
       "      <td>0.0</td>\n",
       "      <td>0.0</td>\n",
       "      <td>0.0</td>\n",
       "      <td>2008</td>\n",
       "      <td>3</td>\n",
       "    </tr>\n",
       "    <tr>\n",
       "      <th>26</th>\n",
       "      <td>0.0</td>\n",
       "      <td>5.159162e+09</td>\n",
       "      <td>5.159162e+09</td>\n",
       "      <td>0.0</td>\n",
       "      <td>0.0</td>\n",
       "      <td>0.0</td>\n",
       "      <td>2008</td>\n",
       "      <td>4</td>\n",
       "    </tr>\n",
       "  </tbody>\n",
       "</table>\n",
       "</div>"
      ],
      "text/plain": [
       "    pagecount_mobile_views  pagecount_desktop_views  pagecount_all_views  \\\n",
       "22                     0.0             2.998332e+09         2.998332e+09   \n",
       "23                     0.0             4.930903e+09         4.930903e+09   \n",
       "24                     0.0             4.818394e+09         4.818394e+09   \n",
       "25                     0.0             4.955406e+09         4.955406e+09   \n",
       "26                     0.0             5.159162e+09         5.159162e+09   \n",
       "\n",
       "    pageview_mobile_views  pageview_desktop_views  pageview_all_views  Year  \\\n",
       "22                    0.0                     0.0                 0.0  2007   \n",
       "23                    0.0                     0.0                 0.0  2008   \n",
       "24                    0.0                     0.0                 0.0  2008   \n",
       "25                    0.0                     0.0                 0.0  2008   \n",
       "26                    0.0                     0.0                 0.0  2008   \n",
       "\n",
       "    Month  \n",
       "22     12  \n",
       "23      1  \n",
       "24      2  \n",
       "25      3  \n",
       "26      4  "
      ]
     },
     "execution_count": 287,
     "metadata": {},
     "output_type": "execute_result"
    }
   ],
   "source": [
    "final_data.head()"
   ]
  },
  {
   "cell_type": "markdown",
   "metadata": {},
   "source": [
    "Saving this data locally as a .csv file using the name instructed."
   ]
  },
  {
   "cell_type": "code",
   "execution_count": 288,
   "metadata": {},
   "outputs": [],
   "source": [
    "csv_filename = 'en-wikipedia_traffic_200712-202008.csv'\n",
    "final_data.to_csv(csv_filename)"
   ]
  },
  {
   "cell_type": "markdown",
   "metadata": {},
   "source": [
    "# Step 3: Analyze the data "
   ]
  },
  {
   "cell_type": "markdown",
   "metadata": {},
   "source": [
    "Importing the necessary visualization libraries and using the data without the separate Year and Month columns for plotting convenience."
   ]
  },
  {
   "cell_type": "code",
   "execution_count": 289,
   "metadata": {},
   "outputs": [],
   "source": [
    "import matplotlib.pyplot as plt\n",
    "import seaborn as sns\n",
    "\n",
    "df = aggregated_data.drop(columns=['Year', 'Month'])"
   ]
  },
  {
   "cell_type": "code",
   "execution_count": 290,
   "metadata": {},
   "outputs": [
    {
     "data": {
      "text/html": [
       "<div>\n",
       "<style scoped>\n",
       "    .dataframe tbody tr th:only-of-type {\n",
       "        vertical-align: middle;\n",
       "    }\n",
       "\n",
       "    .dataframe tbody tr th {\n",
       "        vertical-align: top;\n",
       "    }\n",
       "\n",
       "    .dataframe thead th {\n",
       "        text-align: right;\n",
       "    }\n",
       "</style>\n",
       "<table border=\"1\" class=\"dataframe\">\n",
       "  <thead>\n",
       "    <tr style=\"text-align: right;\">\n",
       "      <th></th>\n",
       "      <th>timestamp</th>\n",
       "      <th>pagecount_mobile_views</th>\n",
       "      <th>pagecount_desktop_views</th>\n",
       "      <th>pagecount_all_views</th>\n",
       "      <th>pageview_mobile_views</th>\n",
       "      <th>pageview_desktop_views</th>\n",
       "      <th>pageview_all_views</th>\n",
       "    </tr>\n",
       "  </thead>\n",
       "  <tbody>\n",
       "    <tr>\n",
       "      <th>22</th>\n",
       "      <td>2007-12-01</td>\n",
       "      <td>0.0</td>\n",
       "      <td>2.998332e+09</td>\n",
       "      <td>2.998332e+09</td>\n",
       "      <td>0.0</td>\n",
       "      <td>0.0</td>\n",
       "      <td>0.0</td>\n",
       "    </tr>\n",
       "    <tr>\n",
       "      <th>23</th>\n",
       "      <td>2008-01-01</td>\n",
       "      <td>0.0</td>\n",
       "      <td>4.930903e+09</td>\n",
       "      <td>4.930903e+09</td>\n",
       "      <td>0.0</td>\n",
       "      <td>0.0</td>\n",
       "      <td>0.0</td>\n",
       "    </tr>\n",
       "    <tr>\n",
       "      <th>24</th>\n",
       "      <td>2008-02-01</td>\n",
       "      <td>0.0</td>\n",
       "      <td>4.818394e+09</td>\n",
       "      <td>4.818394e+09</td>\n",
       "      <td>0.0</td>\n",
       "      <td>0.0</td>\n",
       "      <td>0.0</td>\n",
       "    </tr>\n",
       "    <tr>\n",
       "      <th>25</th>\n",
       "      <td>2008-03-01</td>\n",
       "      <td>0.0</td>\n",
       "      <td>4.955406e+09</td>\n",
       "      <td>4.955406e+09</td>\n",
       "      <td>0.0</td>\n",
       "      <td>0.0</td>\n",
       "      <td>0.0</td>\n",
       "    </tr>\n",
       "    <tr>\n",
       "      <th>26</th>\n",
       "      <td>2008-04-01</td>\n",
       "      <td>0.0</td>\n",
       "      <td>5.159162e+09</td>\n",
       "      <td>5.159162e+09</td>\n",
       "      <td>0.0</td>\n",
       "      <td>0.0</td>\n",
       "      <td>0.0</td>\n",
       "    </tr>\n",
       "  </tbody>\n",
       "</table>\n",
       "</div>"
      ],
      "text/plain": [
       "    timestamp  pagecount_mobile_views  pagecount_desktop_views  \\\n",
       "22 2007-12-01                     0.0             2.998332e+09   \n",
       "23 2008-01-01                     0.0             4.930903e+09   \n",
       "24 2008-02-01                     0.0             4.818394e+09   \n",
       "25 2008-03-01                     0.0             4.955406e+09   \n",
       "26 2008-04-01                     0.0             5.159162e+09   \n",
       "\n",
       "    pagecount_all_views  pageview_mobile_views  pageview_desktop_views  \\\n",
       "22         2.998332e+09                    0.0                     0.0   \n",
       "23         4.930903e+09                    0.0                     0.0   \n",
       "24         4.818394e+09                    0.0                     0.0   \n",
       "25         4.955406e+09                    0.0                     0.0   \n",
       "26         5.159162e+09                    0.0                     0.0   \n",
       "\n",
       "    pageview_all_views  \n",
       "22                 0.0  \n",
       "23                 0.0  \n",
       "24                 0.0  \n",
       "25                 0.0  \n",
       "26                 0.0  "
      ]
     },
     "execution_count": 290,
     "metadata": {},
     "output_type": "execute_result"
    }
   ],
   "source": [
    "df.head()"
   ]
  },
  {
   "cell_type": "code",
   "execution_count": 291,
   "metadata": {},
   "outputs": [],
   "source": [
    "sns.set_style('darkgrid') # Setting darker grid style"
   ]
  },
  {
   "cell_type": "markdown",
   "metadata": {},
   "source": [
    "Showing overall combined traffic from all sources by adding the columns together"
   ]
  },
  {
   "cell_type": "code",
   "execution_count": 292,
   "metadata": {},
   "outputs": [],
   "source": [
    "df['overall_traffic'] = df['pagecount_all_views'] + df['pageview_all_views']"
   ]
  },
  {
   "cell_type": "markdown",
   "metadata": {},
   "source": [
    "Replacing 0s with nulls so that missing data are not plotted."
   ]
  },
  {
   "cell_type": "code",
   "execution_count": 293,
   "metadata": {},
   "outputs": [],
   "source": [
    "import numpy as np\n",
    "df.replace(0, np.nan, inplace=True)"
   ]
  },
  {
   "cell_type": "code",
   "execution_count": 294,
   "metadata": {},
   "outputs": [
    {
     "data": {
      "text/plain": [
       "Index(['timestamp', 'pagecount_mobile_views', 'pagecount_desktop_views',\n",
       "       'pagecount_all_views', 'pageview_mobile_views',\n",
       "       'pageview_desktop_views', 'pageview_all_views', 'overall_traffic'],\n",
       "      dtype='object')"
      ]
     },
     "execution_count": 294,
     "metadata": {},
     "output_type": "execute_result"
    }
   ],
   "source": [
    "df.columns"
   ]
  },
  {
   "cell_type": "markdown",
   "metadata": {},
   "source": [
    "Creating a function that will convert Y axis labels to millions to supress scientific \n",
    "notation axis labelling."
   ]
  },
  {
   "cell_type": "code",
   "execution_count": 295,
   "metadata": {},
   "outputs": [],
   "source": [
    "def millions(x, pos):\n",
    "    'The two args are the value and tick position'\n",
    "    return '%1.1fM' % (x * 1e-6)\n",
    "from matplotlib.ticker import FuncFormatter\n",
    "formatter = FuncFormatter(millions)\n"
   ]
  },
  {
   "cell_type": "markdown",
   "metadata": {},
   "source": [
    "Using instructions to plot data.\n",
    "\n",
    "- Overall traffic plotted in black dashed line\n",
    "- Mobile traffic (legacy endpoint) plotted in blue dashed line \n",
    "- Desktop traffic (legacy endpoint) plotted in green dashed line (with transparency so intersection with other lines is visible)\n",
    "- Mobile traffic from the pageviews endpoint is plotted in blue straight line\n",
    "- Desktop traffic from the pageviews endpoint is plotted in green straight line"
   ]
  },
  {
   "cell_type": "code",
   "execution_count": 296,
   "metadata": {},
   "outputs": [
    {
     "data": {
      "text/plain": [
       "Text(0.5, 1.0, 'Page Views on English Wikipedia')"
      ]
     },
     "execution_count": 296,
     "metadata": {},
     "output_type": "execute_result"
    },
    {
     "data": {
      "image/png": "[encoded data removed]",
      "text/plain": [
       "<Figure size 1440x720 with 1 Axes>"
      ]
     },
     "metadata": {},
     "output_type": "display_data"
    }
   ],
   "source": [
    "fig, ax = plt.subplots(figsize=(20,10))\n",
    "\n",
    "# Applying the formatter function to fix the axis\n",
    "ax.yaxis.set_major_formatter(formatter)\n",
    "\n",
    "\n",
    "# Plotting time vs the data of interest in different colors and linestyles.\n",
    "plt.plot(df['timestamp'], df['overall_traffic'], color='black', \n",
    "         linestyle='dashed', alpha=1, label='Overall traffic')\n",
    "plt.plot(df['timestamp'], df['pagecount_mobile_views'], color='blue',linestyle='dashed', \n",
    "        label = 'Mobile traffic')\n",
    "plt.plot(df['timestamp'], df['pagecount_desktop_views'], color='green',\n",
    "         linestyle='dashed', alpha=0.7, label='Desktop Traffic')\n",
    "plt.plot(df['timestamp'], df['pageview_mobile_views'], color='blue',\n",
    "     alpha=0.7, label='Mobile traffic, API update')\n",
    "plt.plot(df['timestamp'], df['pageview_desktop_views'], color='green',\n",
    "     alpha=0.7, label='Desktop traffic, API update')\n",
    "\n",
    "# Adding legend and title.\n",
    "plt.legend()\n",
    "plt.title('Page Views on English Wikipedia', fontdict={'fontsize':16})"
   ]
  },
  {
   "cell_type": "code",
   "execution_count": 297,
   "metadata": {},
   "outputs": [],
   "source": [
    "fig.savefig('wikipedia_traffic.png')"
   ]
  },
  {
   "cell_type": "code",
   "execution_count": null,
   "metadata": {},
   "outputs": [],
   "source": []
  }
 ],
 "metadata": {
  "kernelspec": {
   "display_name": "Python 3",
   "language": "python",
   "name": "python3"
  },
  "language_info": {
   "codemirror_mode": {
    "name": "ipython",
    "version": 3
   },
   "file_extension": ".py",
   "mimetype": "text/x-python",
   "name": "python",
   "nbconvert_exporter": "python",
   "pygments_lexer": "ipython3",
   "version": "3.8.3"
  }
 },
 "nbformat": 4,
 "nbformat_minor": 4
}
